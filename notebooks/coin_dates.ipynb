{
 "cells": [
  {
   "cell_type": "code",
   "id": "initial_id",
   "metadata": {
    "collapsed": true,
    "ExecuteTime": {
     "end_time": "2025-04-19T13:36:07.169720Z",
     "start_time": "2025-04-19T13:36:06.901574Z"
    }
   },
   "source": [
    "import os\n",
    "from datetime import datetime\n",
    "import json\n",
    "\n",
    "# Define the path to the ohlcvs_bybit directory\n",
    "base_path = \"E://git/passivbot/historical_data/ohlcvs_bybit\"\n",
    "\n",
    "# Define the cutoff date\n",
    "start_date = \"2024-01-01\"\n",
    "cutoff_date = datetime.strptime(start_date, \"%Y-%m-%d\")\n",
    "\n",
    "# Create a dictionary to store coins available on or before the cutoff date\n",
    "eligible_coins = {}\n",
    "\n",
    "for coin in os.listdir(base_path):\n",
    "    coin_path = os.path.join(base_path, coin)\n",
    "    if not os.path.isdir(coin_path):\n",
    "        continue\n",
    "    dates = []\n",
    "    for filename in os.listdir(coin_path):\n",
    "        if filename.endswith(\".npy\"):\n",
    "            try:\n",
    "                date_str = filename.replace(\".npy\", \"\")\n",
    "                date_obj = datetime.strptime(date_str, \"%Y-%m-%d\")\n",
    "                dates.append(date_obj)\n",
    "            except ValueError:\n",
    "                continue\n",
    "    if dates:\n",
    "        earliest = min(dates)\n",
    "        if earliest <= cutoff_date:\n",
    "            # Use the earliest date across all sources\n",
    "            if coin not in eligible_coins or earliest <= datetime.strptime(eligible_coins[coin], \"%Y-%m-%d\"):\n",
    "                eligible_coins[coin] = earliest.strftime(\"%Y-%m-%d\")\n",
    "\n",
    "# Sort by earliest date\n",
    "eligible_coins_sorted = dict(sorted(eligible_coins.items(), key=lambda x: x[1]))\n",
    "\n",
    "orig_list_name = 'top_50_coins_300_mcap_5_usd_bybit'\n",
    "with open(f\"../configs/{orig_list_name}.json\") as f1:\n",
    "    orig_coins = json.load(f1)\n",
    "\n",
    "coins = list(eligible_coins_sorted.keys())\n",
    "coin_set = list(set(orig_coins) & set(coins))\n",
    "\n",
    "json.dump(coin_set, open(f'../configs/{orig_list_name}_{start_date.replace(\"-\", \"\")}.json', \"w\"))\n"
   ],
   "outputs": [],
   "execution_count": 3
  },
  {
   "metadata": {},
   "cell_type": "code",
   "outputs": [],
   "execution_count": null,
   "source": "",
   "id": "8fc3cad50b9ebb60"
  }
 ],
 "metadata": {
  "kernelspec": {
   "display_name": "Python 3",
   "language": "python",
   "name": "python3"
  },
  "language_info": {
   "codemirror_mode": {
    "name": "ipython",
    "version": 2
   },
   "file_extension": ".py",
   "mimetype": "text/x-python",
   "name": "python",
   "nbconvert_exporter": "python",
   "pygments_lexer": "ipython2",
   "version": "2.7.6"
  }
 },
 "nbformat": 4,
 "nbformat_minor": 5
}
