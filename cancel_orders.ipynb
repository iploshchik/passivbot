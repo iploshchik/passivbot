{
 "cells": [
  {
   "metadata": {},
   "cell_type": "code",
   "outputs": [],
   "execution_count": null,
   "source": [
    "from pybit.unified_trading import HTTP\n",
    "import json\n",
    "\n",
    "# === Load API Keys from JSON ===\n",
    "with open('api-keys.json') as f:\n",
    "    keys = json.load(f)\n",
    "\n",
    "API_KEY = keys['bybit_01']['key']\n",
    "API_SECRET = keys['bybit_01']['secret']\n",
    "\n",
    "session = HTTP(\n",
    "    api_key=API_KEY,\n",
    "    api_secret=API_SECRET,\n",
    ")\n",
    "\n",
    "orders = session.get_open_orders(\n",
    "    category=\"linear\",\n",
    "    symbol='XLMUSDT'\n",
    ")['result']['list']"
   ],
   "id": "da5e8a96ccf836be"
  },
  {
   "metadata": {},
   "cell_type": "code",
   "outputs": [],
   "execution_count": null,
   "source": [
    "orders\n",
    "for order in orders:\n",
    "    if order['symbol'] == 'XLMUSDT':\n",
    "        print(f'{order[\"symbol\"]}: {order[\"side\"]} {order[\"qty\"]} @ {order[\"price\"]} - current status: {order[\"orderStatus\"]}')"
   ],
   "id": "941f2f7ca7fbfd8"
  },
  {
   "metadata": {},
   "cell_type": "code",
   "outputs": [],
   "execution_count": null,
   "source": "",
   "id": "e1088e5ed99a230e"
  },
  {
   "metadata": {},
   "cell_type": "code",
   "outputs": [],
   "execution_count": null,
   "source": "",
   "id": "7b44b448374bb93c"
  },
  {
   "metadata": {},
   "cell_type": "code",
   "outputs": [],
   "execution_count": null,
   "source": "",
   "id": "ef87e5c1c3c60cbe"
  }
 ],
 "metadata": {},
 "nbformat": 4,
 "nbformat_minor": 5
}
