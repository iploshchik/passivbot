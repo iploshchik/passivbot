{
 "cells": [
  {
   "cell_type": "code",
   "id": "initial_id",
   "metadata": {
    "collapsed": true,
    "ExecuteTime": {
     "end_time": "2025-04-19T15:19:17.285745Z",
     "start_time": "2025-04-19T15:19:17.254035Z"
    }
   },
   "source": [
    "import json\n",
    "\n",
    "# List of JSON file paths\n",
    "json_files_path = 'examples'\n",
    "\n",
    "# Keys to update and their new values\n",
    "updates = {\n",
    "    \"base_dir\": \"backtests\",\n",
    "    \"end_date\": \"2025-04-15\",\n",
    "    \"exchanges\": [\n",
    "        \"bybit\"\n",
    "    ],\n",
    "    \"start_date\": \"2024-01-01\",\n",
    "    \"starting_balance\": 10000,\n",
    "    \"approved_coins\": \"configs/top_50_coins_300_mcap_5_usd_bybit_20240101.json\",\n",
    "    \"symbols\": \"configs/top_50_coins_300_mcap_5_usd_bybit_20240101.json\",\n",
    "    \"ignored_coins\": [],\n",
    "    \"user\": \"bybit_01\"\n",
    "}\n",
    "\n",
    "def update_keys(obj, updates):\n",
    "    if isinstance(obj, dict):\n",
    "        for key in obj:\n",
    "            if key in updates:\n",
    "                obj[key] = updates[key]\n",
    "            else:\n",
    "                update_keys(obj[key], updates)\n",
    "    elif isinstance(obj, list):\n",
    "        for item in obj:\n",
    "            update_keys(item, updates)\n",
    "\n",
    "# Iterate over each file\n",
    "for i in range(1, 16):\n",
    "    json_file_path = f'{json_files_path}/config_{i}.json'\n",
    "    with open(json_file_path, 'r', encoding='utf-8') as f:\n",
    "        data = json.load(f)\n",
    "\n",
    "    update_keys(data, updates)\n",
    "\n",
    "    # Save back to the same file or a new one\n",
    "    with open(json_file_path, 'w', encoding='utf-8') as f:\n",
    "        json.dump(data, f, indent=4, ensure_ascii=False)\n"
   ],
   "outputs": [],
   "execution_count": 11
  },
  {
   "metadata": {},
   "cell_type": "code",
   "outputs": [],
   "execution_count": null,
   "source": "",
   "id": "fec722131120cf1"
  }
 ],
 "metadata": {
  "kernelspec": {
   "display_name": "Python 3",
   "language": "python",
   "name": "python3"
  },
  "language_info": {
   "codemirror_mode": {
    "name": "ipython",
    "version": 2
   },
   "file_extension": ".py",
   "mimetype": "text/x-python",
   "name": "python",
   "nbconvert_exporter": "python",
   "pygments_lexer": "ipython2",
   "version": "2.7.6"
  }
 },
 "nbformat": 4,
 "nbformat_minor": 5
}
